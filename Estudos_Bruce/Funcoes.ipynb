{
 "cells": [
  {
   "cell_type": "markdown",
   "id": "0a0e6a32",
   "metadata": {},
   "source": [
    "##Funções"
   ]
  },
  {
   "cell_type": "markdown",
   "id": "5313b583",
   "metadata": {},
   "source": [
    "### Tipos de funções"
   ]
  },
  {
   "cell_type": "code",
   "execution_count": 3,
   "id": "10d72cd2",
   "metadata": {},
   "outputs": [
    {
     "data": {
      "text/plain": [
       "55"
      ]
     },
     "execution_count": 3,
     "metadata": {},
     "output_type": "execute_result"
    }
   ],
   "source": [
    "# Funções integradas\n",
    "\n",
    "texto = \"Hello word!\"\n",
    "comprimento = len(texto)\n",
    "print = comprimento\n",
    "\n",
    "numeros = [1,2,3,4,5,6,7,8,9,10]\n",
    "soma = sum(numeros)\n",
    "\n",
    "soma"
   ]
  },
  {
   "cell_type": "code",
   "execution_count": 6,
   "id": "d6953149",
   "metadata": {},
   "outputs": [
    {
     "data": {
      "text/plain": [
       "9.0"
      ]
     },
     "execution_count": 6,
     "metadata": {},
     "output_type": "execute_result"
    }
   ],
   "source": [
    "# Funções de terceiros... quando importamos\n",
    "\n",
    "import math \n",
    "\n",
    "numero = 16\n",
    "\n",
    "raiz_quadrada = math.sqrt(numero)\n",
    "raiz_quadrada\n",
    "\n",
    "numero2 = 4\n",
    "potencia = math.pow(3,2)\n",
    "potencia\n"
   ]
  },
  {
   "cell_type": "code",
   "execution_count": 8,
   "id": "318afb46",
   "metadata": {},
   "outputs": [],
   "source": [
    "# Funções próprias\n",
    "\n",
    "def calcular_quadrado(numero):\n",
    "    quadrado = numero ** 2\n",
    "    return quadrado"
   ]
  },
  {
   "cell_type": "code",
   "execution_count": 14,
   "id": "c41291b7",
   "metadata": {},
   "outputs": [],
   "source": [
    "def nao_retorna_nada():\n",
    "    print(\"nao retorna nada\")\n",
    "        \n",
    "#nao_retorna_nada()"
   ]
  }
 ],
 "metadata": {
  "kernelspec": {
   "display_name": "Python 3",
   "language": "python",
   "name": "python3"
  },
  "language_info": {
   "codemirror_mode": {
    "name": "ipython",
    "version": 3
   },
   "file_extension": ".py",
   "mimetype": "text/x-python",
   "name": "python",
   "nbconvert_exporter": "python",
   "pygments_lexer": "ipython3",
   "version": "3.12.1"
  }
 },
 "nbformat": 4,
 "nbformat_minor": 5
}
