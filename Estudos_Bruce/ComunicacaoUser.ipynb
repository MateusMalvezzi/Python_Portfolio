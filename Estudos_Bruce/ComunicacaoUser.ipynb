{
 "cells": [
  {
   "cell_type": "markdown",
   "metadata": {},
   "source": [
    "##Comunicacao com usuario"
   ]
  },
  {
   "cell_type": "markdown",
   "metadata": {},
   "source": [
    "###Input"
   ]
  },
  {
   "cell_type": "code",
   "execution_count": 3,
   "metadata": {},
   "outputs": [
    {
     "data": {
      "text/plain": [
       "('Mateus', 'Malvezzi')"
      ]
     },
     "execution_count": 3,
     "metadata": {},
     "output_type": "execute_result"
    }
   ],
   "source": [
    "primeiroNome = input(\"Informe seu nome:  \")\n",
    "sobrenome = input(\"Informe seu sobrenome: \")\n",
    "\n",
    "primeiroNome, sobrenome"
   ]
  },
  {
   "cell_type": "markdown",
   "metadata": {},
   "source": [
    "###Print"
   ]
  },
  {
   "cell_type": "code",
   "execution_count": 7,
   "metadata": {},
   "outputs": [
    {
     "name": "stdout",
     "output_type": "stream",
     "text": [
      "Ola, Mateus Malvezzi. Seja bem vindo(a)! \n"
     ]
    }
   ],
   "source": [
    "print(f\"Ola, {primeiroNome} {sobrenome}. Seja bem vindo(a)! \")"
   ]
  },
  {
   "cell_type": "markdown",
   "metadata": {},
   "source": [
    "###Triple Quotes"
   ]
  },
  {
   "cell_type": "code",
   "execution_count": null,
   "metadata": {},
   "outputs": [
    {
     "name": "stdout",
     "output_type": "stream",
     "text": [
      "\n",
      "Esse texto permite várias linhas.\n",
      "Veja o exemplo após função print()\n",
      "\n"
     ]
    }
   ],
   "source": [
    "#\"\"\" #'''\n",
    "texto = \"\"\"\n",
    "Esse texto permite várias linhas..\n",
    "Veja o exemplo após função print()\n",
    "\"\"\"\n",
    "\n",
    "print(texto)"
   ]
  },
  {
   "cell_type": "markdown",
   "metadata": {},
   "source": []
  }
 ],
 "metadata": {
  "kernelspec": {
   "display_name": "Python 3",
   "language": "python",
   "name": "python3"
  },
  "language_info": {
   "codemirror_mode": {
    "name": "ipython",
    "version": 3
   },
   "file_extension": ".py",
   "mimetype": "text/x-python",
   "name": "python",
   "nbconvert_exporter": "python",
   "pygments_lexer": "ipython3",
   "version": "3.12.1"
  }
 },
 "nbformat": 4,
 "nbformat_minor": 2
}
