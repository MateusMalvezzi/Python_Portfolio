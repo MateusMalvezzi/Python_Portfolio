{
 "cells": [
  {
   "cell_type": "markdown",
   "metadata": {},
   "source": [
    "##Comunicacao com usuario"
   ]
  },
  {
   "cell_type": "markdown",
   "metadata": {},
   "source": [
    "###Input"
   ]
  },
  {
   "cell_type": "code",
   "execution_count": 18,
   "metadata": {},
   "outputs": [
    {
     "data": {
      "text/plain": [
       "('Mateus', 'Malvezzi')"
      ]
     },
     "execution_count": 18,
     "metadata": {},
     "output_type": "execute_result"
    }
   ],
   "source": [
    "primeiroNome = input(\"Informe seu nome:  \")\n",
    "sobrenome = input(\"Informe seu sobrenome: \")\n",
    "\n",
    "primeiroNome, sobrenome"
   ]
  },
  {
   "cell_type": "markdown",
   "metadata": {},
   "source": [
    "###Print"
   ]
  },
  {
   "cell_type": "code",
   "execution_count": 19,
   "metadata": {},
   "outputs": [
    {
     "name": "stdout",
     "output_type": "stream",
     "text": [
      "Ola, Mateus Malvezzi. Seja bem vindo(a)! \n"
     ]
    }
   ],
   "source": [
    "print(f\"Ola, {primeiroNome} {sobrenome}. Seja bem vindo(a)! \")"
   ]
  },
  {
   "cell_type": "markdown",
   "metadata": {},
   "source": [
    "###Triple Quotes"
   ]
  },
  {
   "cell_type": "code",
   "execution_count": 20,
   "metadata": {},
   "outputs": [
    {
     "name": "stdout",
     "output_type": "stream",
     "text": [
      "\n",
      "Esse texto permite várias linhas..\n",
      "Veja o exemplo após função print()\n",
      "\n"
     ]
    }
   ],
   "source": [
    "#\"\"\" #'''\n",
    "texto = \"\"\"\n",
    "Esse texto permite várias linhas..\n",
    "Veja o exemplo após função print()\n",
    "\"\"\"\n",
    "\n",
    "print(texto)"
   ]
  },
  {
   "cell_type": "markdown",
   "metadata": {},
   "source": [
    "###Escape Characters"
   ]
  },
  {
   "cell_type": "code",
   "execution_count": 21,
   "metadata": {},
   "outputs": [
    {
     "name": "stdout",
     "output_type": "stream",
     "text": [
      "\t Olá \t Mundo!\n"
     ]
    }
   ],
   "source": [
    "# \\t = tab\n",
    "texto = \"\\t Olá \\t Mundo!\"\n",
    "\n",
    "# texto\n",
    "print(texto)"
   ]
  },
  {
   "cell_type": "code",
   "execution_count": 22,
   "metadata": {},
   "outputs": [
    {
     "name": "stdout",
     "output_type": "stream",
     "text": [
      "Olá \n",
      " Mundo!\n"
     ]
    }
   ],
   "source": [
    "# \\n = nova linha\n",
    "texto = \"Olá \\n Mundo!\"\n",
    "\n",
    "print(texto)"
   ]
  },
  {
   "cell_type": "code",
   "execution_count": 23,
   "metadata": {},
   "outputs": [
    {
     "name": "stdout",
     "output_type": "stream",
     "text": [
      "10 \\ 5 = 2\n"
     ]
    }
   ],
   "source": [
    "# \\\\ = \\ \n",
    "texto = \"10 \\\\ 5 = 2\"\n",
    "\n",
    "print(texto)"
   ]
  },
  {
   "cell_type": "code",
   "execution_count": 24,
   "metadata": {},
   "outputs": [
    {
     "name": "stdout",
     "output_type": "stream",
     "text": [
      "Eu tenho 5'10\" \n"
     ]
    }
   ],
   "source": [
    "# \\\" = \"\n",
    "texto = \"Eu tenho 5'10\\\" \"\n",
    "print(texto)"
   ]
  },
  {
   "cell_type": "code",
   "execution_count": 25,
   "metadata": {},
   "outputs": [
    {
     "name": "stdout",
     "output_type": "stream",
     "text": [
      "Eu tenho 5'10\" \n"
     ]
    }
   ],
   "source": [
    "# ' = '\n",
    "texto = \"Eu tenho 5'10\\\" \"\n",
    "print(texto)"
   ]
  },
  {
   "cell_type": "markdown",
   "metadata": {},
   "source": [
    "# Lista de caracteres de escape em python\n",
    "\n",
    "\\n : Nova linha <br>\n",
    "\\t : Tabulação <br>\n",
    "\\' : Aspa simples <br>\n",
    "\\\"\" : Aspa dupla <br>\n",
    "\\\\ : Barra invertida <br>\n",
    "\\b : Retrocesso (backspace) <br>\n",
    "\\r :Retorno de carro <br>\n",
    "\\f : Avanço de página <br> \n",
    "\\v : Tabulação vertical <br>\n",
    "\\ooo : Representação octal (onde \"ooo\" são digitos octais) <br>\n",
    "\\xhh : Representação hexadecimal (onde \"hh\" são digitos hexadecimais) <br>\n"
   ]
  }
 ],
 "metadata": {
  "kernelspec": {
   "display_name": "Python 3",
   "language": "python",
   "name": "python3"
  },
  "language_info": {
   "codemirror_mode": {
    "name": "ipython",
    "version": 3
   },
   "file_extension": ".py",
   "mimetype": "text/x-python",
   "name": "python",
   "nbconvert_exporter": "python",
   "pygments_lexer": "ipython3",
   "version": "3.12.1"
  }
 },
 "nbformat": 4,
 "nbformat_minor": 2
}
