{
 "cells": [
  {
   "cell_type": "markdown",
   "metadata": {},
   "source": [
    "Tipos de dados no python"
   ]
  },
  {
   "cell_type": "markdown",
   "metadata": {},
   "source": [
    "Inteiro / Integer"
   ]
  },
  {
   "cell_type": "code",
   "execution_count": null,
   "metadata": {},
   "outputs": [],
   "source": [
    "idade = 25\n"
   ]
  },
  {
   "cell_type": "markdown",
   "metadata": {},
   "source": [
    "Float / Decimal"
   ]
  },
  {
   "cell_type": "code",
   "execution_count": 1,
   "metadata": {},
   "outputs": [
    {
     "data": {
      "text/plain": [
       "80"
      ]
     },
     "execution_count": 1,
     "metadata": {},
     "output_type": "execute_result"
    }
   ],
   "source": [
    "peso = 80\n",
    "peso"
   ]
  },
  {
   "cell_type": "markdown",
   "metadata": {},
   "source": [
    "String / Texto"
   ]
  },
  {
   "cell_type": "code",
   "execution_count": 3,
   "metadata": {},
   "outputs": [
    {
     "data": {
      "text/plain": [
       "'Mateus'"
      ]
     },
     "execution_count": 3,
     "metadata": {},
     "output_type": "execute_result"
    }
   ],
   "source": [
    "nome = \"Mateus\"\n",
    "nome"
   ]
  },
  {
   "cell_type": "code",
   "execution_count": 5,
   "metadata": {},
   "outputs": [
    {
     "data": {
      "text/plain": [
       "(1, '1')"
      ]
     },
     "execution_count": 5,
     "metadata": {},
     "output_type": "execute_result"
    }
   ],
   "source": [
    "numero_a = 1\n",
    "numero_b = \"1\"\n",
    "\n",
    "numero_a, numero_b\n"
   ]
  },
  {
   "cell_type": "markdown",
   "metadata": {},
   "source": [
    "Booleano\n",
    "\n",
    "True or false"
   ]
  },
  {
   "cell_type": "code",
   "execution_count": 9,
   "metadata": {},
   "outputs": [
    {
     "data": {
      "text/plain": [
       "False"
      ]
     },
     "execution_count": 9,
     "metadata": {},
     "output_type": "execute_result"
    }
   ],
   "source": [
    "# Exemplo de uma variável booleana\n",
    "\n",
    "numero_a = 1\n",
    "numero_b = \"1\"\n",
    "\n",
    "numero_a == numero_b"
   ]
  },
  {
   "cell_type": "code",
   "execution_count": 10,
   "metadata": {},
   "outputs": [
    {
     "data": {
      "text/plain": [
       "True"
      ]
     },
     "execution_count": 10,
     "metadata": {},
     "output_type": "execute_result"
    }
   ],
   "source": [
    "# Exemplo de uma variável booleana\n",
    "\n",
    "numero_a = 1\n",
    "numero_b = int(\"1\")\n",
    "\n",
    "numero_a == numero_b"
   ]
  },
  {
   "cell_type": "code",
   "execution_count": 11,
   "metadata": {},
   "outputs": [
    {
     "data": {
      "text/plain": [
       "False"
      ]
     },
     "execution_count": 11,
     "metadata": {},
     "output_type": "execute_result"
    }
   ],
   "source": [
    "# Exemplo de uma variável booleana\n",
    "linguagem_1 = \"Python\"\n",
    "linguagem_2 = \"Java\"\n",
    "\n",
    "linguagem_1 == linguagem_2"
   ]
  },
  {
   "cell_type": "markdown",
   "metadata": {},
   "source": [
    "Verificando tipos de dados com python"
   ]
  },
  {
   "cell_type": "code",
   "execution_count": 13,
   "metadata": {},
   "outputs": [
    {
     "data": {
      "text/plain": [
       "str"
      ]
     },
     "execution_count": 13,
     "metadata": {},
     "output_type": "execute_result"
    }
   ],
   "source": [
    "#Exemplo de variáveis de diferentes tipos.\n",
    "\n",
    "type(linguagem_1)"
   ]
  },
  {
   "cell_type": "code",
   "execution_count": 14,
   "metadata": {},
   "outputs": [
    {
     "name": "stdout",
     "output_type": "stream",
     "text": [
      "<class 'int'>\n",
      "<class 'float'>\n",
      "<class 'str'>\n",
      "<class 'list'>\n",
      "<class 'tuple'>\n",
      "<class 'dict'>\n"
     ]
    }
   ],
   "source": [
    "#Exemplo de variáveis de diferentes tipos.\n",
    "\n",
    "inteiro = 42\n",
    "flutuante = 3.14\n",
    "texto = \"Olá mundo\"\n",
    "lista =[1, 2, 3]\n",
    "tupla = (1, 3)\n",
    "dicionário = {'a':1, 'b':2}\n",
    "\n",
    "#Verificando os tipos\n",
    "print(type(inteiro))\n",
    "print(type(flutuante))\n",
    "print(type(texto))\n",
    "print(type(lista))\n",
    "print(type(tupla))\n",
    "print(type(dicionário))"
   ]
  },
  {
   "cell_type": "markdown",
   "metadata": {},
   "source": [
    "Formatando strings"
   ]
  },
  {
   "cell_type": "markdown",
   "metadata": {},
   "source": [
    "Formatando strings utilizando %"
   ]
  },
  {
   "cell_type": "code",
   "execution_count": 29,
   "metadata": {},
   "outputs": [
    {
     "data": {
      "text/plain": [
       "'O Iphone 15 Pro Max foi lancado em 2023 e custa $ 1299. Mas a taxa de conversao real para dolar é 4.96 reais para 1 dolar'"
      ]
     },
     "execution_count": 29,
     "metadata": {},
     "output_type": "execute_result"
    }
   ],
   "source": [
    "marca = \"Iphone 15 Pro Max\"\n",
    "lancamento = 2023\n",
    "valor = 1299\n",
    "taxaDolar = 4.9555555\n",
    "\n",
    "# \"O\" + marca + \" foi lancado em \" + str(lancamento)\n",
    "\n",
    "'O %s foi lancado em %d e custa $ %d. Mas a taxa de conversao real para dolar é %.2f reais para 1 dolar'%(marca, lancamento, valor, taxaDolar)"
   ]
  },
  {
   "cell_type": "markdown",
   "metadata": {},
   "source": [
    "Formatando strings utilizando o format ()"
   ]
  },
  {
   "cell_type": "code",
   "execution_count": 6,
   "metadata": {},
   "outputs": [
    {
     "data": {
      "text/plain": [
       "'O Iphone 15 Pro Max foi lancado em 2023 e custa $ 1299. Mas a taxa de conversao real para dolar é R$ 4.96 para 1 dolar'"
      ]
     },
     "execution_count": 6,
     "metadata": {},
     "output_type": "execute_result"
    }
   ],
   "source": [
    "marca = \"Iphone 15 Pro Max\"\n",
    "lancamento = 2023\n",
    "valor = 1299\n",
    "taxaDolar = 4.9555555\n",
    "\n",
    "\n",
    "'O {0} foi lancado em {1} e custa $ {2}. Mas a taxa de conversao real para dolar é R${3: .2f} para 1 dolar'.format(marca, lancamento, valor, taxaDolar)"
   ]
  },
  {
   "cell_type": "code",
   "execution_count": 8,
   "metadata": {},
   "outputs": [
    {
     "data": {
      "text/plain": [
       "'O Iphone 15 Pro Max foi lancado em 2023 e custa $ 1299. Mas a taxa de conversao real para dolar é R$ 4.96 para 1 dolar'"
      ]
     },
     "execution_count": 8,
     "metadata": {},
     "output_type": "execute_result"
    }
   ],
   "source": [
    "f'O {marca} foi lancado em {lancamento} e custa $ {valor}. Mas a taxa de conversao real para dolar é R${taxaDolar: .2f} para 1 dolar'.format(marca, lancamento, valor, taxaDolar)"
   ]
  },
  {
   "cell_type": "markdown",
   "metadata": {},
   "source": [
    "Convertendo tipo de dados"
   ]
  },
  {
   "cell_type": "code",
   "execution_count": 15,
   "metadata": {},
   "outputs": [
    {
     "data": {
      "text/plain": [
       "2"
      ]
     },
     "execution_count": 15,
     "metadata": {},
     "output_type": "execute_result"
    }
   ],
   "source": [
    "numero = int('2')\n",
    "numero"
   ]
  },
  {
   "cell_type": "code",
   "execution_count": 16,
   "metadata": {},
   "outputs": [
    {
     "data": {
      "text/plain": [
       "int"
      ]
     },
     "execution_count": 16,
     "metadata": {},
     "output_type": "execute_result"
    }
   ],
   "source": [
    "type(numero)"
   ]
  },
  {
   "cell_type": "code",
   "execution_count": 17,
   "metadata": {},
   "outputs": [
    {
     "name": "stdout",
     "output_type": "stream",
     "text": [
      "Data e hora em São Paulo: 2024-01-06 16:27:21-03:00\n"
     ]
    }
   ],
   "source": [
    "from datetime import datetime\n",
    "import pytz\n",
    "\n",
    "unix_time = 1704569241\n",
    "\n",
    "#Converter para data e hora normal em São Paulo\n",
    "fuso_horario_sao_paulo = pytz.timezone('America/Sao_Paulo')\n",
    "\n",
    "data_hora_sao_paulo = datetime.fromtimestamp(unix_time, fuso_horario_sao_paulo)\n",
    "\n",
    "print(\"Data e hora em São Paulo:\", data_hora_sao_paulo)"
   ]
  },
  {
   "cell_type": "markdown",
   "metadata": {},
   "source": [
    "Listas"
   ]
  },
  {
   "cell_type": "code",
   "execution_count": 3,
   "metadata": {},
   "outputs": [
    {
     "data": {
      "text/plain": [
       "(['Hugo', 'Zé', 'Luiz'], [18, 19, 20])"
      ]
     },
     "execution_count": 3,
     "metadata": {},
     "output_type": "execute_result"
    }
   ],
   "source": [
    "#Declarando uma lista\n",
    "\n",
    "minhalista = []\n",
    "minhalista\n",
    "\n",
    "nomeUsuario = [\"Hugo\",\"Zé\",\"Luiz\"]\n",
    "idadeUsuario = [18, 19, 20]\n",
    "\n",
    "nomeUsuario, idadeUsuario"
   ]
  },
  {
   "cell_type": "code",
   "execution_count": 5,
   "metadata": {},
   "outputs": [
    {
     "data": {
      "text/plain": [
       "(['Hugo', 'Zé', 'Luiz', 'Mateus', 'Mateus'], [18, 19, 20, 25, 25])"
      ]
     },
     "execution_count": 5,
     "metadata": {},
     "output_type": "execute_result"
    }
   ],
   "source": [
    "#Adicionando itens na lista\n",
    "\n",
    "nomeUsuario.append(\"Mateus\")\n",
    "idadeUsuario.append(25)\n",
    "\n",
    "nomeUsuario, idadeUsuario"
   ]
  },
  {
   "cell_type": "code",
   "execution_count": 7,
   "metadata": {},
   "outputs": [
    {
     "data": {
      "text/plain": [
       "(['Hugo', 'Zé', 'Luiz'], [18, 19, 20])"
      ]
     },
     "execution_count": 7,
     "metadata": {},
     "output_type": "execute_result"
    }
   ],
   "source": [
    "#Removendo da lista\n",
    "nomeUsuario.remove(\"Mateus\")\n",
    "idadeUsuario.remove(25)\n",
    "\n",
    "nomeUsuario, idadeUsuario"
   ]
  },
  {
   "cell_type": "code",
   "execution_count": 1,
   "metadata": {},
   "outputs": [
    {
     "data": {
      "text/plain": [
       "40"
      ]
     },
     "execution_count": 1,
     "metadata": {},
     "output_type": "execute_result"
    }
   ],
   "source": [
    "#Encontrando um valor por indice\n",
    "\n",
    "idadeAlunos = [49, 50, 30, 21, 40, 25, 35, 29, 70, 27, 43, 18, 22]\n",
    "\n",
    "idadeAlunos [4]\n",
    "\n",
    "#Na contagem do indice >> 0 = 49, 1 = 50, 2 = 30 etc etc"
   ]
  },
  {
   "cell_type": "code",
   "execution_count": 6,
   "metadata": {},
   "outputs": [
    {
     "data": {
      "text/plain": [
       "70"
      ]
     },
     "execution_count": 6,
     "metadata": {},
     "output_type": "execute_result"
    }
   ],
   "source": [
    "#Acessando por index\n",
    "\n",
    "idadeAlunos = [49, 50, 30, 21, 40, 25, 35, 29, 70, 27, 43, 18, 22]\n",
    "\n",
    "#Da esquerda (valor positivo)\n",
    "idadeAlunos [8]\n",
    "\n",
    "#Da direita (valor negativo) {da DIR para ESQ a contagem começa em 1}\n",
    "idadeAlunos [-5]"
   ]
  },
  {
   "cell_type": "code",
   "execution_count": 15,
   "metadata": {},
   "outputs": [
    {
     "data": {
      "text/plain": [
       "[70, 27, 43, 18, 22]"
      ]
     },
     "execution_count": 15,
     "metadata": {},
     "output_type": "execute_result"
    }
   ],
   "source": [
    "idadeAlunos = [49, 50, 30, 21, 40, 25, 35, 29, 70, 27, 43, 18, 22]\n",
    "# qusndo não tenho nada a esquerda dos [:], vamos \"pegar\" tudo.\n",
    "\n",
    "# Da esquerda (valor positivo)\n",
    "idadeAlunos [:6] #utilizando esse modelo de [:6] ele sempre fará [N - 1] para retornar o numero que solicitamos.\n",
    "\n",
    "# Da direita (valor negativo)\n",
    "idadeAlunos [-5:]"
   ]
  },
  {
   "cell_type": "code",
   "execution_count": 16,
   "metadata": {},
   "outputs": [
    {
     "data": {
      "text/plain": [
       "[25, 35, 29, 70, 27]"
      ]
     },
     "execution_count": 16,
     "metadata": {},
     "output_type": "execute_result"
    }
   ],
   "source": [
    "idadeAlunos = [49, 50, 30, 21, 40, 25, 35, 29, 70, 27, 43, 18, 22]\n",
    "\n",
    "# Buscando um intervalo de lista\n",
    "idadeAlunos[5:10]\n"
   ]
  },
  {
   "cell_type": "code",
   "execution_count": 17,
   "metadata": {},
   "outputs": [
    {
     "data": {
      "text/plain": [
       "[49, 30, 40, 35, 70]"
      ]
     },
     "execution_count": 17,
     "metadata": {},
     "output_type": "execute_result"
    }
   ],
   "source": [
    "#Acessando intervalos\n",
    "idadeAlunos = [49, 50, 30, 21, 40, 25, 35, 29, 70, 27, 43, 18, 22]\n",
    "idadeAlunos[0:10:2] #Adicionando o terceiro numero pós :, ditamos a regra. Então nesse exemplo, a cada dois numeros"
   ]
  },
  {
   "cell_type": "code",
   "execution_count": 1,
   "metadata": {},
   "outputs": [
    {
     "data": {
      "text/plain": [
       "[64, 50, 30, 21, 40, 25, 35, 29, 70, 27, 43, 18, 22]"
      ]
     },
     "execution_count": 1,
     "metadata": {},
     "output_type": "execute_result"
    }
   ],
   "source": [
    "#Alterando valores\n",
    "idadeAlunos = [49, 50, 30, 21, 40, 25, 35, 29, 70, 27, 43, 18, 22]\n",
    "\n",
    "idadeAlunos[0] = 64\n",
    "idadeAlunos\n"
   ]
  },
  {
   "cell_type": "markdown",
   "metadata": {},
   "source": [
    "#Tuplas\n",
    "###Não podem ser alteradas durante a execução do código, diferente das listas."
   ]
  },
  {
   "cell_type": "code",
   "execution_count": 2,
   "metadata": {},
   "outputs": [],
   "source": [
    "mesesDoAno = (\"Jan\", \"Feb\", \"Mar\", \"Apr\", \"May\", \"Jun\", \"Jul\", \"Aug\", \"Sep\", \"Oct\", \"Nov\", \"Dec\")"
   ]
  },
  {
   "cell_type": "code",
   "execution_count": 3,
   "metadata": {},
   "outputs": [
    {
     "data": {
      "text/plain": [
       "'Oct'"
      ]
     },
     "execution_count": 3,
     "metadata": {},
     "output_type": "execute_result"
    }
   ],
   "source": [
    "#Acessando valores\n",
    "mesesDoAno[9]"
   ]
  },
  {
   "cell_type": "code",
   "execution_count": 4,
   "metadata": {},
   "outputs": [
    {
     "data": {
      "text/plain": [
       "('Apr', 'May', 'Jun')"
      ]
     },
     "execution_count": 4,
     "metadata": {},
     "output_type": "execute_result"
    }
   ],
   "source": [
    "mesesDoAno[3:6]\n"
   ]
  },
  {
   "cell_type": "markdown",
   "metadata": {},
   "source": [
    "#Dicionários\n",
    "###é quase a mesma coisa que um json"
   ]
  },
  {
   "cell_type": "code",
   "execution_count": 5,
   "metadata": {},
   "outputs": [
    {
     "data": {
      "text/plain": [
       "dict"
      ]
     },
     "execution_count": 5,
     "metadata": {},
     "output_type": "execute_result"
    }
   ],
   "source": [
    "meuDicionario = {}\n",
    "type(meuDicionario)"
   ]
  },
  {
   "cell_type": "code",
   "execution_count": 7,
   "metadata": {},
   "outputs": [
    {
     "data": {
      "text/plain": [
       "{'Mateus': 18, 'Lucas': 19, 'Luis': 20}"
      ]
     },
     "execution_count": 7,
     "metadata": {},
     "output_type": "execute_result"
    }
   ],
   "source": [
    "#Criando um dicionario com nome e idade de usuarios\n",
    "usuario = {\n",
    "    \"Mateus\":18,\n",
    "    \"Lucas\":19,\n",
    "    \"Luis\":20\n",
    "}\n",
    "usuario"
   ]
  },
  {
   "cell_type": "code",
   "execution_count": 9,
   "metadata": {},
   "outputs": [
    {
     "data": {
      "text/plain": [
       "19"
      ]
     },
     "execution_count": 9,
     "metadata": {},
     "output_type": "execute_result"
    }
   ],
   "source": [
    "#Imprimindo um item\n",
    "usuario[\"Lucas\"]\n"
   ]
  },
  {
   "cell_type": "code",
   "execution_count": 10,
   "metadata": {},
   "outputs": [
    {
     "data": {
      "text/plain": [
       "{'Mateus': 18, 'Lucas': 21, 'Luis': 20}"
      ]
     },
     "execution_count": 10,
     "metadata": {},
     "output_type": "execute_result"
    }
   ],
   "source": [
    "#Imprimindo um item\n",
    "usuario[\"Lucas\"] = 21\n",
    "usuario"
   ]
  },
  {
   "cell_type": "markdown",
   "metadata": {},
   "source": [
    "#Criando uma lista de dicionarios"
   ]
  },
  {
   "cell_type": "code",
   "execution_count": 19,
   "metadata": {},
   "outputs": [
    {
     "data": {
      "text/plain": [
       "[{'Nome': 'Mateus', 'Idade': 18},\n",
       " {'Nome': 'Luis', 'Idade': 19},\n",
       " {'Nome': 'Ze', 'Idade': 20},\n",
       " {'Nome': 'Paulo', 'Idade': 21}]"
      ]
     },
     "execution_count": 19,
     "metadata": {},
     "output_type": "execute_result"
    }
   ],
   "source": [
    "listaUsuarios=[\n",
    "    {\"Nome\":\"Mateus\", \"Idade\":18},\n",
    "    {\"Nome\":\"Luis\", \"Idade\":19},\n",
    "    {\"Nome\":\"Ze\", \"Idade\":20},\n",
    "    {\"Nome\":\"Paulo\", \"Idade\":21},\n",
    "]\n",
    "listaUsuarios"
   ]
  },
  {
   "cell_type": "code",
   "execution_count": 20,
   "metadata": {},
   "outputs": [],
   "source": [
    "import pandas as pd"
   ]
  },
  {
   "cell_type": "code",
   "execution_count": 21,
   "metadata": {},
   "outputs": [
    {
     "data": {
      "text/html": [
       "<div>\n",
       "<style scoped>\n",
       "    .dataframe tbody tr th:only-of-type {\n",
       "        vertical-align: middle;\n",
       "    }\n",
       "\n",
       "    .dataframe tbody tr th {\n",
       "        vertical-align: top;\n",
       "    }\n",
       "\n",
       "    .dataframe thead th {\n",
       "        text-align: right;\n",
       "    }\n",
       "</style>\n",
       "<table border=\"1\" class=\"dataframe\">\n",
       "  <thead>\n",
       "    <tr style=\"text-align: right;\">\n",
       "      <th></th>\n",
       "      <th>Nome</th>\n",
       "      <th>Idade</th>\n",
       "    </tr>\n",
       "  </thead>\n",
       "  <tbody>\n",
       "    <tr>\n",
       "      <th>0</th>\n",
       "      <td>Mateus</td>\n",
       "      <td>18</td>\n",
       "    </tr>\n",
       "    <tr>\n",
       "      <th>1</th>\n",
       "      <td>Luis</td>\n",
       "      <td>19</td>\n",
       "    </tr>\n",
       "    <tr>\n",
       "      <th>2</th>\n",
       "      <td>Ze</td>\n",
       "      <td>20</td>\n",
       "    </tr>\n",
       "    <tr>\n",
       "      <th>3</th>\n",
       "      <td>Paulo</td>\n",
       "      <td>21</td>\n",
       "    </tr>\n",
       "  </tbody>\n",
       "</table>\n",
       "</div>"
      ],
      "text/plain": [
       "     Nome  Idade\n",
       "0  Mateus     18\n",
       "1    Luis     19\n",
       "2      Ze     20\n",
       "3   Paulo     21"
      ]
     },
     "execution_count": 21,
     "metadata": {},
     "output_type": "execute_result"
    }
   ],
   "source": [
    "df = pd.DataFrame(listaUsuarios)\n",
    "df"
   ]
  },
  {
   "cell_type": "code",
   "execution_count": null,
   "metadata": {},
   "outputs": [],
   "source": []
  }
 ],
 "metadata": {
  "kernelspec": {
   "display_name": "Python 3",
   "language": "python",
   "name": "python3"
  },
  "language_info": {
   "codemirror_mode": {
    "name": "ipython",
    "version": 3
   },
   "file_extension": ".py",
   "mimetype": "text/x-python",
   "name": "python",
   "nbconvert_exporter": "python",
   "pygments_lexer": "ipython3",
   "version": "3.12.1"
  }
 },
 "nbformat": 4,
 "nbformat_minor": 2
}
