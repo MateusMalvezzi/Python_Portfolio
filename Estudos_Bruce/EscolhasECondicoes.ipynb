{
 "cells": [
  {
   "cell_type": "markdown",
   "id": "41963524",
   "metadata": {},
   "source": [
    "#Escolhas e condições"
   ]
  },
  {
   "cell_type": "markdown",
   "id": "b967dc00",
   "metadata": {},
   "source": [
    "##Condições"
   ]
  },
  {
   "cell_type": "code",
   "execution_count": 1,
   "id": "8e85661e",
   "metadata": {},
   "outputs": [
    {
     "data": {
      "text/plain": [
       "True"
      ]
     },
     "execution_count": 1,
     "metadata": {},
     "output_type": "execute_result"
    }
   ],
   "source": [
    "#Igual\n",
    "1==1"
   ]
  },
  {
   "cell_type": "code",
   "execution_count": 2,
   "id": "b0323241",
   "metadata": {},
   "outputs": [
    {
     "data": {
      "text/plain": [
       "True"
      ]
     },
     "execution_count": 2,
     "metadata": {},
     "output_type": "execute_result"
    }
   ],
   "source": [
    "#Diferente\n",
    "1 != 12"
   ]
  },
  {
   "cell_type": "code",
   "execution_count": 3,
   "id": "d5547f98",
   "metadata": {},
   "outputs": [
    {
     "data": {
      "text/plain": [
       "True"
      ]
     },
     "execution_count": 3,
     "metadata": {},
     "output_type": "execute_result"
    }
   ],
   "source": [
    "#maior\n",
    "5 > 3 "
   ]
  },
  {
   "cell_type": "code",
   "execution_count": 4,
   "id": "ec79e007",
   "metadata": {},
   "outputs": [
    {
     "data": {
      "text/plain": [
       "True"
      ]
     },
     "execution_count": 4,
     "metadata": {},
     "output_type": "execute_result"
    }
   ],
   "source": [
    "#maior ou igual\n",
    "5 >= 3"
   ]
  },
  {
   "cell_type": "code",
   "execution_count": 5,
   "id": "cc77889c",
   "metadata": {},
   "outputs": [
    {
     "data": {
      "text/plain": [
       "False"
      ]
     },
     "execution_count": 5,
     "metadata": {},
     "output_type": "execute_result"
    }
   ],
   "source": [
    "#menor\n",
    "11 < 7 "
   ]
  },
  {
   "cell_type": "code",
   "execution_count": 6,
   "id": "561c33d4",
   "metadata": {},
   "outputs": [
    {
     "data": {
      "text/plain": [
       "True"
      ]
     },
     "execution_count": 6,
     "metadata": {},
     "output_type": "execute_result"
    }
   ],
   "source": [
    "#menor ou igual\n",
    "4 <= 7"
   ]
  },
  {
   "cell_type": "code",
   "execution_count": 7,
   "id": "786d3f33",
   "metadata": {},
   "outputs": [
    {
     "data": {
      "text/plain": [
       "True"
      ]
     },
     "execution_count": 7,
     "metadata": {},
     "output_type": "execute_result"
    }
   ],
   "source": [
    "#Esta dentro\n",
    "lista = [4,5,6,7,8,9,10]\n",
    "\n",
    "6 in lista"
   ]
  },
  {
   "cell_type": "markdown",
   "id": "ccfc43d2",
   "metadata": {},
   "source": [
    "##IF Else"
   ]
  },
  {
   "cell_type": "code",
   "execution_count": 1,
   "id": "55bb43a2",
   "metadata": {},
   "outputs": [
    {
     "name": "stdout",
     "output_type": "stream",
     "text": [
      "Você foi aprovado!\n"
     ]
    }
   ],
   "source": [
    "#if\n",
    "\n",
    "nota = 7.5\n",
    "\n",
    "if nota > 7:\n",
    "    print(\"Você foi aprovado!\")\n",
    "else:\n",
    "    print(\"Você não foi aprovado!\")"
   ]
  },
  {
   "cell_type": "code",
   "execution_count": 3,
   "id": "a6403aa4",
   "metadata": {},
   "outputs": [],
   "source": [
    "#if sem else\n",
    "\n",
    "nota = 5\n",
    "\n",
    "if nota >= 9.5:\n",
    "    print(\"Você foi aprovado!\")"
   ]
  },
  {
   "cell_type": "code",
   "execution_count": 7,
   "id": "fe12e92c",
   "metadata": {},
   "outputs": [
    {
     "name": "stdout",
     "output_type": "stream",
     "text": [
      "Você obteve uma nota B!\n"
     ]
    }
   ],
   "source": [
    "#elif\n",
    "\n",
    "nota = 8\n",
    "\n",
    "if nota >= 9:\n",
    "    print(\"Você obteve uma nota A\")\n",
    "elif nota >= 8:\n",
    "    print(\"Você obteve uma nota B!\")\n",
    "elif nota >= 6:\n",
    "    print(\"Você obteve uma nota C!\")\n",
    "else:\n",
    "    print(\"Você foi reprovado\")"
   ]
  },
  {
   "cell_type": "code",
   "execution_count": 11,
   "id": "6e3e790b",
   "metadata": {},
   "outputs": [
    {
     "name": "stdout",
     "output_type": "stream",
     "text": [
      "Parabens! o numero 10 foi sorteado!\n"
     ]
    }
   ],
   "source": [
    "#in \n",
    "\n",
    "#em uma urna coom 10 numeros entre 5 e 20, escolha um numero para ser sorteado\n",
    "\n",
    "numero = 10\n",
    "\n",
    "rifa = [19, 5, 17, 12, 10, 15, 20, 8, 12]\n",
    "\n",
    "if numero in rifa:\n",
    "    print(f\"Parabens! o numero {numero} foi sorteado!\")\n",
    "else:\n",
    "    print(f\"Tente novamente! O numero {numero} nao foi sortado\")"
   ]
  },
  {
   "cell_type": "code",
   "execution_count": 14,
   "id": "8753ed98",
   "metadata": {},
   "outputs": [
    {
     "name": "stdout",
     "output_type": "stream",
     "text": [
      "Atenção! O número 21 não está no intervalo solicitado.\n"
     ]
    }
   ],
   "source": [
    "#or = | \n",
    "\n",
    "#adicionando outra condição\n",
    "\n",
    "numero = 21\n",
    "\n",
    "rifa = [19, 5, 17, 11, 12, 10, 15, 20, 8, 12]\n",
    "\n",
    "if numero < 5 or numero > 20:\n",
    "    print(f\"Atenção! O número {numero} não está no intervalo solicitado.\")\n",
    "elif numero in rifa:\n",
    "    print(f\"Parabéns! O número {numero} foi sorteado.\")\n",
    "else:\n",
    "    print(f\"Tente novamente! O número {numero} não foi sorteado.\")\n"
   ]
  },
  {
   "cell_type": "code",
   "execution_count": 15,
   "id": "e3f3a45c",
   "metadata": {},
   "outputs": [
    {
     "name": "stdout",
     "output_type": "stream",
     "text": [
      "Tente novamente! O número 4 não foi sorteado.\n"
     ]
    }
   ],
   "source": [
    "#and = &\n",
    "\n",
    "numero = 4\n",
    "\n",
    "rifa = [19, 5, 17, 11, 12, 10, 15, 20, 8, 12]\n",
    "\n",
    "if numero <= 5 & numero >= 20:\n",
    "    print(f\"Atenção! O número {numero} não está no intervalo solicitado.\")\n",
    "elif numero in rifa:\n",
    "    print(f\"Parabéns! O número {numero} foi sorteado.\")\n",
    "else:\n",
    "    print(f\"Tente novamente! O número {numero} não foi sorteado.\")"
   ]
  },
  {
   "cell_type": "markdown",
   "id": "e7c4e93c",
   "metadata": {},
   "source": [
    "## Inline IF"
   ]
  },
  {
   "cell_type": "code",
   "execution_count": 2,
   "id": "9f424101",
   "metadata": {},
   "outputs": [
    {
     "data": {
      "text/plain": [
       "'Maior de idade'"
      ]
     },
     "execution_count": 2,
     "metadata": {},
     "output_type": "execute_result"
    }
   ],
   "source": [
    "# Inlife IF\n",
    "\n",
    "idade = 18\n",
    "\n",
    "mensagem = \"Maior de idade\" if idade >= 18 else \"Menor de idade\"\n",
    "\n",
    "if idade >= 18:\n",
    "    mensagem = \"Maior de idade\"\n",
    "else:\n",
    "    mensagem = \"Menor de idade\"\n",
    "\n",
    "mensagem"
   ]
  },
  {
   "cell_type": "markdown",
   "id": "d223bdd0",
   "metadata": {},
   "source": [
    "##For Loop"
   ]
  },
  {
   "cell_type": "code",
   "execution_count": 3,
   "id": "364f5954",
   "metadata": {},
   "outputs": [
    {
     "name": "stdout",
     "output_type": "stream",
     "text": [
      "Banana\n",
      "Maça\n",
      "Laranja\n"
     ]
    }
   ],
   "source": [
    "#Iterar por uma lista\n",
    "\n",
    "frutas = [\n",
    "    \"Banana\",\n",
    "    \"Maça\",\n",
    "    \"Laranja\"    \n",
    "]\n",
    "for fruta in frutas:\n",
    "    print(fruta)"
   ]
  },
  {
   "cell_type": "code",
   "execution_count": 5,
   "id": "3ab43dc7",
   "metadata": {},
   "outputs": [
    {
     "name": "stdout",
     "output_type": "stream",
     "text": [
      "1 1\n",
      "2 3\n",
      "3 6\n",
      "4 10\n",
      "5 15\n",
      "6 21\n"
     ]
    },
    {
     "data": {
      "text/plain": [
       "21"
      ]
     },
     "execution_count": 5,
     "metadata": {},
     "output_type": "execute_result"
    }
   ],
   "source": [
    "#Iterar por um intervalo de números\n",
    "\n",
    "numeros = [1,2,3,4,5,6]\n",
    "\n",
    "acumulado = 0\n",
    "\n",
    "# for numero in range(1, 7):\n",
    "for numero in numeros:\n",
    "    acumulado += numero\n",
    "    print(numero, acumulado)\n",
    "acumulado"
   ]
  },
  {
   "cell_type": "code",
   "execution_count": 6,
   "id": "b319d0e9",
   "metadata": {},
   "outputs": [
    {
     "name": "stdout",
     "output_type": "stream",
     "text": [
      "P\n",
      "y\n",
      "t\n",
      "h\n",
      "o\n",
      "n\n"
     ]
    }
   ],
   "source": [
    "# Iterar por uma string \n",
    "\n",
    "palavra = \"Python\"\n",
    "\n",
    "for letra in palavra:\n",
    "    print(letra)"
   ]
  },
  {
   "cell_type": "markdown",
   "id": "2e167960",
   "metadata": {},
   "source": [
    "## While Loop"
   ]
  },
  {
   "cell_type": "code",
   "execution_count": 1,
   "id": "8fff3097",
   "metadata": {},
   "outputs": [
    {
     "name": "stdout",
     "output_type": "stream",
     "text": [
      "5\n",
      "4\n",
      "3\n",
      "2\n",
      "1\n"
     ]
    }
   ],
   "source": [
    "#Contagem regressiva\n",
    "contador = 5\n",
    "\n",
    "while contador > 0:\n",
    "    print(contador)\n",
    "    contador -= 1"
   ]
  },
  {
   "cell_type": "code",
   "execution_count": 4,
   "id": "77aa3a53",
   "metadata": {},
   "outputs": [
    {
     "name": "stdout",
     "output_type": "stream",
     "text": [
      "0\n",
      "3\n",
      "6\n",
      "8\n",
      "9\n",
      "O total de 12 é igual ou maior que o limite de 10\n"
     ]
    }
   ],
   "source": [
    "#Soma até certo valor\n",
    "\n",
    "soma = 0\n",
    "limite = 10\n",
    "\n",
    "while soma < limite:\n",
    "    print(soma)\n",
    "    numero = int(input(\"digite um numero\"))\n",
    "    soma += numero\n",
    "\n",
    "print (f\"O total de {soma} é igual ou maior que o limite de {limite}\")"
   ]
  },
  {
   "cell_type": "code",
   "execution_count": 7,
   "id": "cc9254db",
   "metadata": {},
   "outputs": [
    {
     "name": "stdout",
     "output_type": "stream",
     "text": [
      "Tente um número maior.\n",
      "Tente um número maior.\n",
      "Tente um número maior.\n",
      "Tente um número maior.\n",
      "Tente um número menor.\n",
      "Tente um número menor.\n",
      "Tente um número menor.\n",
      "Parabéns! Você acertou em 8 tentativas\n"
     ]
    }
   ],
   "source": [
    "#Advinhe o número\n",
    "\n",
    "numero_secreto = 42\n",
    "tentativa = 0\n",
    "\n",
    "while True:\n",
    "    palpite = int(input(\"Advinhe o numero: \"))\n",
    "    tentativa += 1\n",
    "    \n",
    "    if palpite == numero_secreto:\n",
    "        print(f\"Parabéns! Você acertou em {tentativa} tentativas\")\n",
    "        break\n",
    "    elif palpite < numero_secreto:\n",
    "        print(\"Tente um número maior.\")\n",
    "    else:\n",
    "        print(\"Tente um número menor.\")"
   ]
  },
  {
   "cell_type": "code",
   "execution_count": null,
   "id": "72f6433a",
   "metadata": {},
   "outputs": [],
   "source": []
  }
 ],
 "metadata": {
  "kernelspec": {
   "display_name": "Python 3",
   "language": "python",
   "name": "python3"
  },
  "language_info": {
   "codemirror_mode": {
    "name": "ipython",
    "version": 3
   },
   "file_extension": ".py",
   "mimetype": "text/x-python",
   "name": "python",
   "nbconvert_exporter": "python",
   "pygments_lexer": "ipython3",
   "version": "3.12.1"
  }
 },
 "nbformat": 4,
 "nbformat_minor": 5
}
