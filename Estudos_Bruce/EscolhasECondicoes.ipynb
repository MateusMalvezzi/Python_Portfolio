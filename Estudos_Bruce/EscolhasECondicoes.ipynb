{
 "cells": [
  {
   "cell_type": "markdown",
   "id": "41963524",
   "metadata": {},
   "source": [
    "#Escolhas e condições"
   ]
  },
  {
   "cell_type": "markdown",
   "id": "b967dc00",
   "metadata": {},
   "source": [
    "##Condições"
   ]
  },
  {
   "cell_type": "code",
   "execution_count": 1,
   "id": "8e85661e",
   "metadata": {},
   "outputs": [
    {
     "data": {
      "text/plain": [
       "True"
      ]
     },
     "execution_count": 1,
     "metadata": {},
     "output_type": "execute_result"
    }
   ],
   "source": [
    "#Igual\n",
    "1==1"
   ]
  },
  {
   "cell_type": "code",
   "execution_count": 2,
   "id": "b0323241",
   "metadata": {},
   "outputs": [
    {
     "data": {
      "text/plain": [
       "True"
      ]
     },
     "execution_count": 2,
     "metadata": {},
     "output_type": "execute_result"
    }
   ],
   "source": [
    "#Diferente\n",
    "1 != 12"
   ]
  },
  {
   "cell_type": "code",
   "execution_count": 3,
   "id": "d5547f98",
   "metadata": {},
   "outputs": [
    {
     "data": {
      "text/plain": [
       "True"
      ]
     },
     "execution_count": 3,
     "metadata": {},
     "output_type": "execute_result"
    }
   ],
   "source": [
    "#maior\n",
    "5 > 3 "
   ]
  },
  {
   "cell_type": "code",
   "execution_count": 4,
   "id": "ec79e007",
   "metadata": {},
   "outputs": [
    {
     "data": {
      "text/plain": [
       "True"
      ]
     },
     "execution_count": 4,
     "metadata": {},
     "output_type": "execute_result"
    }
   ],
   "source": [
    "#maior ou igual\n",
    "5 >= 3"
   ]
  },
  {
   "cell_type": "code",
   "execution_count": 5,
   "id": "cc77889c",
   "metadata": {},
   "outputs": [
    {
     "data": {
      "text/plain": [
       "False"
      ]
     },
     "execution_count": 5,
     "metadata": {},
     "output_type": "execute_result"
    }
   ],
   "source": [
    "#menor\n",
    "11 < 7 "
   ]
  },
  {
   "cell_type": "code",
   "execution_count": 6,
   "id": "561c33d4",
   "metadata": {},
   "outputs": [
    {
     "data": {
      "text/plain": [
       "True"
      ]
     },
     "execution_count": 6,
     "metadata": {},
     "output_type": "execute_result"
    }
   ],
   "source": [
    "#menor ou igual\n",
    "4 <= 7"
   ]
  },
  {
   "cell_type": "code",
   "execution_count": 7,
   "id": "786d3f33",
   "metadata": {},
   "outputs": [
    {
     "data": {
      "text/plain": [
       "True"
      ]
     },
     "execution_count": 7,
     "metadata": {},
     "output_type": "execute_result"
    }
   ],
   "source": [
    "#Esta dentro\n",
    "lista = [4,5,6,7,8,9,10]\n",
    "\n",
    "6 in lista"
   ]
  },
  {
   "cell_type": "markdown",
   "id": "ccfc43d2",
   "metadata": {},
   "source": [
    "##IF Else"
   ]
  },
  {
   "cell_type": "code",
   "execution_count": null,
   "id": "55bb43a2",
   "metadata": {},
   "outputs": [],
   "source": []
  },
  {
   "cell_type": "code",
   "execution_count": null,
   "id": "3ab43dc7",
   "metadata": {},
   "outputs": [],
   "source": []
  },
  {
   "cell_type": "code",
   "execution_count": null,
   "id": "b319d0e9",
   "metadata": {},
   "outputs": [],
   "source": []
  },
  {
   "cell_type": "code",
   "execution_count": null,
   "id": "8fff3097",
   "metadata": {},
   "outputs": [],
   "source": []
  },
  {
   "cell_type": "code",
   "execution_count": null,
   "id": "77aa3a53",
   "metadata": {},
   "outputs": [],
   "source": []
  },
  {
   "cell_type": "code",
   "execution_count": null,
   "id": "cc9254db",
   "metadata": {},
   "outputs": [],
   "source": []
  }
 ],
 "metadata": {
  "kernelspec": {
   "display_name": "Python 3",
   "language": "python",
   "name": "python3"
  },
  "language_info": {
   "codemirror_mode": {
    "name": "ipython",
    "version": 3
   },
   "file_extension": ".py",
   "mimetype": "text/x-python",
   "name": "python",
   "nbconvert_exporter": "python",
   "pygments_lexer": "ipython3",
   "version": "3.12.1"
  }
 },
 "nbformat": 4,
 "nbformat_minor": 5
}
