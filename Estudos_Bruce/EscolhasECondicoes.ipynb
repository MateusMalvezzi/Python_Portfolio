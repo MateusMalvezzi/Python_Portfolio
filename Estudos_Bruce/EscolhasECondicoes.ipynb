{
 "cells": [
  {
   "cell_type": "markdown",
   "id": "41963524",
   "metadata": {},
   "source": [
    "#Escolhas e condições"
   ]
  },
  {
   "cell_type": "markdown",
   "id": "b967dc00",
   "metadata": {},
   "source": [
    "##Condições"
   ]
  },
  {
   "cell_type": "code",
   "execution_count": 1,
   "id": "8e85661e",
   "metadata": {},
   "outputs": [
    {
     "data": {
      "text/plain": [
       "True"
      ]
     },
     "execution_count": 1,
     "metadata": {},
     "output_type": "execute_result"
    }
   ],
   "source": [
    "#Igual\n",
    "1==1"
   ]
  },
  {
   "cell_type": "code",
   "execution_count": 2,
   "id": "b0323241",
   "metadata": {},
   "outputs": [
    {
     "data": {
      "text/plain": [
       "True"
      ]
     },
     "execution_count": 2,
     "metadata": {},
     "output_type": "execute_result"
    }
   ],
   "source": [
    "#Diferente\n",
    "1 != 12"
   ]
  },
  {
   "cell_type": "code",
   "execution_count": 3,
   "id": "d5547f98",
   "metadata": {},
   "outputs": [
    {
     "data": {
      "text/plain": [
       "True"
      ]
     },
     "execution_count": 3,
     "metadata": {},
     "output_type": "execute_result"
    }
   ],
   "source": [
    "#maior\n",
    "5 > 3 "
   ]
  },
  {
   "cell_type": "code",
   "execution_count": 4,
   "id": "ec79e007",
   "metadata": {},
   "outputs": [
    {
     "data": {
      "text/plain": [
       "True"
      ]
     },
     "execution_count": 4,
     "metadata": {},
     "output_type": "execute_result"
    }
   ],
   "source": [
    "#maior ou igual\n",
    "5 >= 3"
   ]
  },
  {
   "cell_type": "code",
   "execution_count": 5,
   "id": "cc77889c",
   "metadata": {},
   "outputs": [
    {
     "data": {
      "text/plain": [
       "False"
      ]
     },
     "execution_count": 5,
     "metadata": {},
     "output_type": "execute_result"
    }
   ],
   "source": [
    "#menor\n",
    "11 < 7 "
   ]
  },
  {
   "cell_type": "code",
   "execution_count": 6,
   "id": "561c33d4",
   "metadata": {},
   "outputs": [
    {
     "data": {
      "text/plain": [
       "True"
      ]
     },
     "execution_count": 6,
     "metadata": {},
     "output_type": "execute_result"
    }
   ],
   "source": [
    "#menor ou igual\n",
    "4 <= 7"
   ]
  },
  {
   "cell_type": "code",
   "execution_count": 7,
   "id": "786d3f33",
   "metadata": {},
   "outputs": [
    {
     "data": {
      "text/plain": [
       "True"
      ]
     },
     "execution_count": 7,
     "metadata": {},
     "output_type": "execute_result"
    }
   ],
   "source": [
    "#Esta dentro\n",
    "lista = [4,5,6,7,8,9,10]\n",
    "\n",
    "6 in lista"
   ]
  },
  {
   "cell_type": "markdown",
   "id": "ccfc43d2",
   "metadata": {},
   "source": [
    "##IF Else"
   ]
  },
  {
   "cell_type": "code",
   "execution_count": 1,
   "id": "55bb43a2",
   "metadata": {},
   "outputs": [
    {
     "name": "stdout",
     "output_type": "stream",
     "text": [
      "Você foi aprovado!\n"
     ]
    }
   ],
   "source": [
    "#if\n",
    "\n",
    "nota = 7.5\n",
    "\n",
    "if nota > 7:\n",
    "    print(\"Você foi aprovado!\")\n",
    "else:\n",
    "    print(\"Você não foi aprovado!\")"
   ]
  },
  {
   "cell_type": "code",
   "execution_count": 3,
   "id": "a6403aa4",
   "metadata": {},
   "outputs": [],
   "source": [
    "#if sem else\n",
    "\n",
    "nota = 5\n",
    "\n",
    "if nota >= 9.5:\n",
    "    print(\"Você foi aprovado!\")"
   ]
  },
  {
   "cell_type": "code",
   "execution_count": 7,
   "id": "fe12e92c",
   "metadata": {},
   "outputs": [
    {
     "name": "stdout",
     "output_type": "stream",
     "text": [
      "Você obteve uma nota B!\n"
     ]
    }
   ],
   "source": [
    "#elif\n",
    "\n",
    "nota = 8\n",
    "\n",
    "if nota >= 9:\n",
    "    print(\"Você obteve uma nota A\")\n",
    "elif nota >= 8:\n",
    "    print(\"Você obteve uma nota B!\")\n",
    "elif nota >= 6:\n",
    "    print(\"Você obteve uma nota C!\")\n",
    "else:\n",
    "    print(\"Você foi reprovado\")"
   ]
  },
  {
   "cell_type": "code",
   "execution_count": 11,
   "id": "6e3e790b",
   "metadata": {},
   "outputs": [
    {
     "name": "stdout",
     "output_type": "stream",
     "text": [
      "Parabens! o numero 10 foi sorteado!\n"
     ]
    }
   ],
   "source": [
    "#in \n",
    "\n",
    "#em uma urna coom 10 numeros entre 5 e 20, escolha um numero para ser sorteado\n",
    "\n",
    "numero = 10\n",
    "\n",
    "rifa = [19, 5, 17, 12, 10, 15, 20, 8, 12]\n",
    "\n",
    "if numero in rifa:\n",
    "    print(f\"Parabens! o numero {numero} foi sorteado!\")\n",
    "else:\n",
    "    print(f\"Tente novamente! O numero {numero} nao foi sortado\")"
   ]
  },
  {
   "cell_type": "code",
   "execution_count": 14,
   "id": "8753ed98",
   "metadata": {},
   "outputs": [
    {
     "name": "stdout",
     "output_type": "stream",
     "text": [
      "Atenção! O número 21 não está no intervalo solicitado.\n"
     ]
    }
   ],
   "source": [
    "#or = | \n",
    "\n",
    "#adicionando outra condição\n",
    "\n",
    "numero = 21\n",
    "\n",
    "rifa = [19, 5, 17, 11, 12, 10, 15, 20, 8, 12]\n",
    "\n",
    "if numero < 5 or numero > 20:\n",
    "    print(f\"Atenção! O número {numero} não está no intervalo solicitado.\")\n",
    "elif numero in rifa:\n",
    "    print(f\"Parabéns! O número {numero} foi sorteado.\")\n",
    "else:\n",
    "    print(f\"Tente novamente! O número {numero} não foi sorteado.\")\n"
   ]
  },
  {
   "cell_type": "code",
   "execution_count": 15,
   "id": "e3f3a45c",
   "metadata": {},
   "outputs": [
    {
     "name": "stdout",
     "output_type": "stream",
     "text": [
      "Tente novamente! O número 4 não foi sorteado.\n"
     ]
    }
   ],
   "source": [
    "#and = &\n",
    "\n",
    "numero = 4\n",
    "\n",
    "rifa = [19, 5, 17, 11, 12, 10, 15, 20, 8, 12]\n",
    "\n",
    "if numero <= 5 & numero >= 20:\n",
    "    print(f\"Atenção! O número {numero} não está no intervalo solicitado.\")\n",
    "elif numero in rifa:\n",
    "    print(f\"Parabéns! O número {numero} foi sorteado.\")\n",
    "else:\n",
    "    print(f\"Tente novamente! O número {numero} não foi sorteado.\")"
   ]
  },
  {
   "cell_type": "markdown",
   "id": "e7c4e93c",
   "metadata": {},
   "source": [
    "## Inline IF"
   ]
  },
  {
   "cell_type": "code",
   "execution_count": 2,
   "id": "9f424101",
   "metadata": {},
   "outputs": [
    {
     "data": {
      "text/plain": [
       "'Maior de idade'"
      ]
     },
     "execution_count": 2,
     "metadata": {},
     "output_type": "execute_result"
    }
   ],
   "source": [
    "# Inlife IF\n",
    "\n",
    "idade = 18\n",
    "\n",
    "mensagem = \"Maior de idade\" if idade >= 18 else \"Menor de idade\"\n",
    "\n",
    "if idade >= 18:\n",
    "    mensagem = \"Maior de idade\"\n",
    "else:\n",
    "    mensagem = \"Menor de idade\"\n",
    "\n",
    "mensagem"
   ]
  },
  {
   "cell_type": "code",
   "execution_count": null,
   "id": "364f5954",
   "metadata": {},
   "outputs": [],
   "source": []
  },
  {
   "cell_type": "code",
   "execution_count": null,
   "id": "3ab43dc7",
   "metadata": {},
   "outputs": [],
   "source": []
  },
  {
   "cell_type": "code",
   "execution_count": null,
   "id": "b319d0e9",
   "metadata": {},
   "outputs": [],
   "source": []
  },
  {
   "cell_type": "code",
   "execution_count": null,
   "id": "8fff3097",
   "metadata": {},
   "outputs": [],
   "source": []
  },
  {
   "cell_type": "code",
   "execution_count": null,
   "id": "77aa3a53",
   "metadata": {},
   "outputs": [],
   "source": []
  },
  {
   "cell_type": "code",
   "execution_count": null,
   "id": "cc9254db",
   "metadata": {},
   "outputs": [],
   "source": []
  }
 ],
 "metadata": {
  "kernelspec": {
   "display_name": "Python 3",
   "language": "python",
   "name": "python3"
  },
  "language_info": {
   "codemirror_mode": {
    "name": "ipython",
    "version": 3
   },
   "file_extension": ".py",
   "mimetype": "text/x-python",
   "name": "python",
   "nbconvert_exporter": "python",
   "pygments_lexer": "ipython3",
   "version": "3.12.1"
  }
 },
 "nbformat": 4,
 "nbformat_minor": 5
}
