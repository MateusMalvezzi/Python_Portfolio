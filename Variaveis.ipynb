{
 "cells": [
  {
   "cell_type": "markdown",
   "metadata": {},
   "source": [
    "Variavéis e operadores."
   ]
  },
  {
   "cell_type": "markdown",
   "metadata": {},
   "source": [
    "O que são variváveis."
   ]
  },
  {
   "cell_type": "code",
   "execution_count": 6,
   "metadata": {},
   "outputs": [],
   "source": [
    "#pode adicionar textos e numeros\n",
    "nomeUsuario = \"Mateus\"\n",
    "idade = 24"
   ]
  },
  {
   "cell_type": "code",
   "execution_count": 7,
   "metadata": {},
   "outputs": [
    {
     "name": "stdout",
     "output_type": "stream",
     "text": [
      "Mateus 24\n"
     ]
    }
   ],
   "source": [
    "print(nomeUsuario, idade)"
   ]
  },
  {
   "cell_type": "code",
   "execution_count": 8,
   "metadata": {},
   "outputs": [
    {
     "name": "stdout",
     "output_type": "stream",
     "text": [
      "Mateus 24\n"
     ]
    }
   ],
   "source": [
    "#atribuir mais de uma variável na mesma linha\n",
    "nomeUsuario, idade = 'Mateus', 24\n",
    "\n",
    "print(nomeUsuario, idade)"
   ]
  },
  {
   "cell_type": "code",
   "execution_count": 10,
   "metadata": {},
   "outputs": [
    {
     "name": "stdout",
     "output_type": "stream",
     "text": [
      "Mateus 24\n"
     ]
    }
   ],
   "source": [
    "#equivalente\n",
    "nomeUsuario = \"Mateus\"\n",
    "idade = 24\n",
    "\n",
    "print(nomeUsuario, idade)"
   ]
  },
  {
   "cell_type": "markdown",
   "metadata": {},
   "source": [
    "Nomeando variáveis"
   ]
  },
  {
   "cell_type": "code",
   "execution_count": 1,
   "metadata": {},
   "outputs": [
    {
     "data": {
      "text/plain": [
       "'Rodrigues'"
      ]
     },
     "execution_count": 1,
     "metadata": {},
     "output_type": "execute_result"
    }
   ],
   "source": [
    "#Permitido\n",
    "nome_usuario = \"Mateus\"\n",
    "\n",
    "nome_usuario2 = \"Malvezzi\"\n",
    "\n",
    "NOMEUSUARIO = \"Rodrigues\"\n",
    "\n",
    "\n",
    "#Não permitido\n",
    "\n",
    "1_NOME = \"Mateuis\""
   ]
  },
  {
   "cell_type": "code",
   "execution_count": null,
   "metadata": {},
   "outputs": [],
   "source": [
    "#Palavras reservadas \n",
    "\n",
    "if = \"Mateus\"\n",
    "for - Mateus\n",
    "\n",
    "#Não permitido\n",
    "print = \"impressora\"\n",
    "input = \"input\""
   ]
  },
  {
   "cell_type": "markdown",
   "metadata": {},
   "source": [
    "Atribuindo valores a uma variável."
   ]
  },
  {
   "cell_type": "code",
   "execution_count": 3,
   "metadata": {},
   "outputs": [
    {
     "data": {
      "text/plain": [
       "False"
      ]
     },
     "execution_count": 3,
     "metadata": {},
     "output_type": "execute_result"
    }
   ],
   "source": [
    "x, y = 10, 15\n",
    "# x = y\n",
    "#x, y\n",
    "\n",
    "\n",
    "# comparação   \n",
    "x == y\n"
   ]
  }
 ],
 "metadata": {
  "kernelspec": {
   "display_name": "Python 3",
   "language": "python",
   "name": "python3"
  },
  "language_info": {
   "codemirror_mode": {
    "name": "ipython",
    "version": 3
   },
   "file_extension": ".py",
   "mimetype": "text/x-python",
   "name": "python",
   "nbconvert_exporter": "python",
   "pygments_lexer": "ipython3",
   "version": "3.11.5"
  }
 },
 "nbformat": 4,
 "nbformat_minor": 2
}
